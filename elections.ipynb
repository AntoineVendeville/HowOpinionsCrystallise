{
 "cells": [
  {
   "cell_type": "markdown",
   "metadata": {},
   "source": [
    "# <center> UK and US elections code"
   ]
  },
  {
   "cell_type": "markdown",
   "metadata": {},
   "source": [
    "We import the requested modules and set up some parameters for the plots appearance."
   ]
  },
  {
   "cell_type": "code",
   "execution_count": 1,
   "metadata": {},
   "outputs": [],
   "source": [
    "# imports\n",
    "import re\n",
    "import sys\n",
    "import pickle\n",
    "import numpy as np\n",
    "import pandas as pd\n",
    "from time import time\n",
    "from scipy.linalg import expm\n",
    "from util import section5_simu\n",
    "from sklearn.model_selection import train_test_split\n",
    "import matplotlib.pyplot as plt\n",
    "from matplotlib.pyplot import text as Text\n",
    "from matplotlib.lines import Line2D\n",
    "from matplotlib import rc\n",
    "\n",
    "# for plots appearance\n",
    "gov_color = {\"Con\":\"blue\", \"Lab\":\"red\", \"Nat\":\"orange\", \"Coa\":\"green\", \"?\":\"black\"}\n",
    "party_color = {\"con\":\"blue\", \"lab\":\"red\", \"rep\":\"red\", \"dem\":\"blue\"}\n",
    "party_color2 = {\"con\":\"darkblue\", \"lab\":\"maroon\", \"dem\":\"darkblue\", \"rep\":\"maroon\"}\n",
    "ls = {\"con\":\":\", \"lab\":\"--\", \"dem\":\":\", \"rep\":\"--\"}\n",
    "mark = {\"con\":\"d\", \"lab\":\"o\", \"dem\":\"o\", \"rep\":\"d\"}\n",
    "\n",
    "# latex rendering\n",
    "rc('font',**{'family':'sans-serif','sans-serif':['Palatino']})\n",
    "rc('text', usetex=True)"
   ]
  },
  {
   "cell_type": "markdown",
   "metadata": {},
   "source": [
    "First we create a useful function to compute a transition rate matrix Q using our voter model based on the values of n,s0,s1."
   ]
  },
  {
   "cell_type": "code",
   "execution_count": 2,
   "metadata": {},
   "outputs": [],
   "source": [
    "def Q_matrix(n,s0,s1):\n",
    "    q = np.zeros((n-s0-s1+1, n-s0-s1+1))\n",
    "    for k in range(s1,n-s0+1):\n",
    "        q[k-s1,k-s1-1] = (k-s1)*(n-k)/(n-1)\n",
    "        if k < n-s0:\n",
    "            q[k-s1,k-s1+1] = k*(n-k-s0)/(n-1)\n",
    "        q[k-s1,k-s1] = - (k-s1)*(n-k)/(n-1) - k*(n-k-s0)/(n-1)\n",
    "    return q"
   ]
  },
  {
   "cell_type": "markdown",
   "metadata": {},
   "source": [
    "Parameters. Choose the region (UK or US)."
   ]
  },
  {
   "cell_type": "code",
   "execution_count": 3,
   "metadata": {},
   "outputs": [],
   "source": [
    "n = 100 # nb users\n",
    "region = \"uk\" # uk or us"
   ]
  },
  {
   "cell_type": "markdown",
   "metadata": {},
   "source": [
    "Get parties names."
   ]
  },
  {
   "cell_type": "code",
   "execution_count": 4,
   "metadata": {},
   "outputs": [],
   "source": [
    "if region == \"uk\":\n",
    "    parties= (\"con\", \"lab\")\n",
    "    party_name = {\"con\":\"Conservative\", \"lab\":\"Labour\"}\n",
    "if region == \"us\":\n",
    "    parties = (\"rep\", \"dem\") \n",
    "    party_name = {\"rep\":\"Republicans\", \"dem\":\"Democrats\"} "
   ]
  },
  {
   "cell_type": "markdown",
   "metadata": {},
   "source": [
    "Load dataset and preprocess."
   ]
  },
  {
   "cell_type": "code",
   "execution_count": 5,
   "metadata": {},
   "outputs": [],
   "source": [
    "############ UNITED KINGDOM ############\n",
    "if region == \"uk\":\n",
    "    # nb seats for each party\n",
    "    X = dict()\n",
    "    for p in parties:\n",
    "        df = pd.read_csv(\"data/elections/uk_results.csv\")\n",
    "        x  = np.array(df[p])\n",
    "        X[p] = np.around(x).astype(int)\n",
    "\n",
    "    # time\n",
    "    year = np.array(df[\"year\"])\n",
    "    year = np.append(year, 2024) # add next election\n",
    "    T = (year-year[0]).astype(float)\n",
    "    T[15:] += 0.5\n",
    "\n",
    "    # nb datapoints\n",
    "    length = df.shape[0]\n",
    "\n",
    "############ UNITED STATES ############\n",
    "if region==\"us\":\n",
    "    year = np.array([],dtype=int)\n",
    "    X = {p: np.array([],dtype=int) for p in parties}\n",
    "    for line in open(\"data/elections/1912to1972_raw.txt\"):\n",
    "        if \"United States Presidential Election\" in line:\n",
    "            year = np.append(year, int(line[:4]))\n",
    "            done = {p:False for p in parties}\n",
    "        if \"Republican\" in line:\n",
    "            p = \"rep\"\n",
    "        elif \"Democratic\" in line:\n",
    "            p = \"dem\"\n",
    "        else:\n",
    "            continue\n",
    "        x = re.search(r\"\\d*\\.*\\d*\\%\", line)\n",
    "        x = round(float(x.group()[:-1]))\n",
    "        if not done[p]:\n",
    "            X[p] = np.append(X[p],x)\n",
    "            done[p] = True\n",
    "        else:\n",
    "            X[p][-1] += x\n",
    "\n",
    "    # create timeline, get length\n",
    "    year = np.append(year,2020)\n",
    "    T = (year-year[0]).astype(float)\n",
    "    length = T.size-1"
   ]
  },
  {
   "cell_type": "markdown",
   "metadata": {},
   "source": [
    "Each election year, we estimate (s0,s1) for Con and Lab based on all the previous results."
   ]
  },
  {
   "cell_type": "code",
   "execution_count": 7,
   "metadata": {},
   "outputs": [
    {
     "name": "stdout",
     "output_type": "stream",
     "text": [
      "Datapoint 27/27 ...... lab ...... (s0,s1) test 1428/1428 ...... elapsed time 878.0766952037811 ................\r"
     ]
    }
   ],
   "source": [
    "estimate = {p:list() for p in parties}\n",
    "start = time()\n",
    "\n",
    "for j in range(2, length+1): # new estimates for each datapoint\n",
    "    \n",
    "    for p in parties: # for each party\n",
    "        \n",
    "        xbar_tmp = X[p][:j].mean()\n",
    "        s1_max = X[p][:j].min()\n",
    "        current_max, best_estim = None, None\n",
    "        count = 0\n",
    "\n",
    "        for s1 in range(1, s1_max+1): # check all possible values of s1\n",
    "            s0_max = n-X[p][:j].max()\n",
    "            #s0 = int(min(s0_max, round((n/xbar[p]-1)*s1)))\n",
    "            for s0 in range(1, s0_max+1): # check all possible values of s0\n",
    "\n",
    "                # print status\n",
    "                count += 1\n",
    "                sys.stdout.flush()\n",
    "                sys.stdout.write(\"Datapoint {}/{} ...... {} ...... (s0,s1) test {}/{} ...... elapsed time {} ...............\\r\"\n",
    "                                 .format(j, length, p, count, s1_max*s0_max, time()-start))\n",
    "\n",
    "                # compute Q\n",
    "                Q = Q_matrix(n,s0,s1)\n",
    "\n",
    "                # compute log likelihood\n",
    "                log_likelihood = 0\n",
    "                for i in range(1, j):\n",
    "                    t = T[i] - T[i-1]\n",
    "                    x, y = X[p][i-1], X[p][i]\n",
    "                    log_likelihood += np.log(expm(t*Q)[x-s1, y-s1])\n",
    "\n",
    "                # update max if better\n",
    "                if current_max == None:\n",
    "                    current_max, best_estim = log_likelihood, (s0,s1)\n",
    "                elif log_likelihood > current_max:\n",
    "                    current_max, best_estim = log_likelihood, (s0,s1)\n",
    "\n",
    "        # append best estim to S0 and S1 dicts\n",
    "        estimate[p].append(best_estim)"
   ]
  },
  {
   "cell_type": "markdown",
   "metadata": {},
   "source": [
    "Show results."
   ]
  },
  {
   "cell_type": "code",
   "execution_count": 8,
   "metadata": {},
   "outputs": [
    {
     "name": "stdout",
     "output_type": "stream",
     "text": [
      "Year | con | lab\n",
      "1924 (62, 38) (65, 30)\n",
      "1929 (20, 21) (61, 30)\n",
      "1931 (28, 20) (55, 30)\n",
      "1935 (1, 5) (53, 27)\n",
      "1945 (9, 10) (48, 26)\n",
      "1950 (11, 10) (26, 17)\n",
      "1951 (13, 12) (23, 16)\n",
      "1955 (13, 12) (23, 16)\n",
      "1959 (15, 14) (22, 16)\n",
      "1964 (16, 15) (25, 18)\n",
      "1966 (18, 16) (25, 18)\n",
      "1970 (18, 16) (24, 18)\n",
      "1974 (19, 17) (26, 19)\n",
      "1974 (19, 16) (26, 19)\n",
      "1979 (19, 16) (26, 19)\n",
      "1983 (20, 17) (28, 20)\n",
      "1987 (20, 17) (22, 15)\n",
      "1992 (22, 18) (21, 14)\n",
      "1997 (22, 18) (23, 15)\n",
      "2001 (19, 15) (24, 16)\n",
      "2005 (18, 14) (24, 16)\n",
      "2010 (17, 13) (24, 16)\n",
      "2015 (18, 13) (22, 14)\n",
      "2017 (18, 13) (22, 14)\n",
      "2019 (19, 14) (22, 14)\n",
      "2024 (19, 14) (24, 15)\n"
     ]
    }
   ],
   "source": [
    "print(\"Year | {} | {}\".format(parties[0], parties[1]))\n",
    "for i in range(length-1):\n",
    "    print(year[2:][i], estimate[parties[0]][i], estimate[parties[1]][i])"
   ]
  },
  {
   "cell_type": "markdown",
   "metadata": {},
   "source": [
    "Now we compute the predicted distributions, each time based on the most recent estimate of s0,s1."
   ]
  },
  {
   "cell_type": "code",
   "execution_count": 9,
   "metadata": {},
   "outputs": [],
   "source": [
    "jump_distrib = {p:list() for p in parties}\n",
    "maximum = 0\n",
    "Mean, Std = {p:list() for p in parties}, {p:list() for p in parties}\n",
    "Max = {p:list() for p in parties}\n",
    "\n",
    "for p in parties:\n",
    "    \n",
    "    jump_distrib[p] = list()\n",
    "    \n",
    "    for i in range(2,length+1):\n",
    "        \n",
    "        # compute Q but only if it's the first time or s0,s1 are different than last time\n",
    "        s0,s1 = estimate[p][i-2]\n",
    "        Q = Q_matrix(n,s0,s1)\n",
    "            \n",
    "        # predict distribution\n",
    "        t = T[i] - T[i-1]\n",
    "        x = X[p][i-1]\n",
    "        density = expm(t*Q)[x-s1,:]\n",
    "        jump_distrib[p].append(density)\n",
    "        maximum = max(maximum, density.max())\n",
    "        \n",
    "        # mean and std and max\n",
    "        mean = np.arange(s1,n-s0+1).dot(density)\n",
    "        Mean[p].append(mean)\n",
    "        Std[p].append(np.sqrt((np.arange(s1,n-s0+1)**2).dot(density) - mean**2))\n",
    "        Max[p].append(np.argmax(density)+s1)\n",
    "        \n",
    "    # convert to array    \n",
    "    jump_distrib[p] = np.array(jump_distrib[p])"
   ]
  },
  {
   "cell_type": "markdown",
   "metadata": {},
   "source": [
    "Now compare the mean with outcomes over time on a single plot."
   ]
  },
  {
   "cell_type": "code",
   "execution_count": 10,
   "metadata": {},
   "outputs": [
    {
     "data": {
      "image/png": "[encoded data removed]",
      "text/plain": [
       "<Figure size 432x288 with 1 Axes>"
      ]
     },
     "metadata": {
      "needs_background": "light"
     },
     "output_type": "display_data"
    },
    {
     "data": {
      "image/png": "[encoded data removed]",
      "text/plain": [
       "<Figure size 432x288 with 1 Axes>"
      ]
     },
     "metadata": {
      "needs_background": "light"
     },
     "output_type": "display_data"
    }
   ],
   "source": [
    "Mean = {p: np.array(Mean[p]) for p in parties}\n",
    "Std = {p: np.array(Std[p]) for p in parties}\n",
    "\n",
    "for p in parties:\n",
    "            \n",
    "    color = party_color[p]\n",
    "    color2 = party_color2[p]\n",
    "    \n",
    "    # plot\n",
    "    plt.grid()\n",
    "    fill = plt.fill_between(year[2:-1],  Mean[p][:-1]-5,  Mean[p][:-1]+5, color=color, alpha=.08)\n",
    "    pred, = plt.plot(year[2:-1], Mean[p][:-1], marker=\"o\", markersize=5, ls=\"-.\", linewidth=.8, color=color)\n",
    "    real, = plt.plot(year[2:-1], X[p][2:], marker=\"x\", ls=\"--\", linewidth=.8, color=color2)\n",
    "    #plt.fill_between(year[2:-1], Mean[p][:-1]-Std[p][:-1], Mean[p][:-1]+Std[p][:-1], color=\"green\", alpha=.1)\n",
    "\n",
    "    # legend and axes lim\n",
    "    elements = [(fill,pred), real]\n",
    "    names = [\"Prediction\", r\"Reality $\\pm 5\\%$\"]\n",
    "    plt.legend(elements, names, loc=\"best\", shadow=True)\n",
    "    plt.ylim(0,100)\n",
    "    \n",
    "    # show and save\n",
    "    plt.xlabel(\"Year\")\n",
    "    plt.ylabel(\"Popular vote shares for {} (\\%)\".format(party_name[p]))\n",
    "    #plt.savefig(\"pred_vs_real_{}_{}.pdf\".format(region,p))\n",
    "    plt.show()\n",
    "    plt.close()"
   ]
  },
  {
   "cell_type": "markdown",
   "metadata": {},
   "source": [
    "Now we compute absolute errors (`gap`) and running averages of those (`gap_run`)."
   ]
  },
  {
   "cell_type": "code",
   "execution_count": 12,
   "metadata": {},
   "outputs": [],
   "source": [
    "gap = {p: np.array([]) for p in parties}\n",
    "gap_run = {p: np.array([]) for p in parties}\n",
    "window = 5 # window size for running averages\n",
    "\n",
    "for p in parties:\n",
    "    for i in range(2,length):\n",
    "        s0, s1 = estimate[p][i-2]\n",
    "        datapoint = X[p][i]\n",
    "        density = jump_distrib[p][i-2]\n",
    "        \n",
    "        # gap\n",
    "        g = np.abs(datapoint-Mean[p][i-2]) # normal line\n",
    "        #g = np.abs(datapoint-X[p][i-1]) # to test when we predict the last result exactly\n",
    "        gap[p] = np.append(gap[p], g)\n",
    "        \n",
    "        # gap running average\n",
    "        if i-2<window:\n",
    "            gap_run[p] = np.append(gap_run[p], gap[p].mean())\n",
    "        else:\n",
    "            gap_run[p] = np.append(gap_run[p], gap[p][i-2-window+1:i+1].mean())"
   ]
  },
  {
   "cell_type": "markdown",
   "metadata": {},
   "source": [
    "Then we plot."
   ]
  },
  {
   "cell_type": "code",
   "execution_count": 14,
   "metadata": {},
   "outputs": [
    {
     "data": {
      "image/png": "[encoded data removed]",
      "text/plain": [
       "<Figure size 432x288 with 1 Axes>"
      ]
     },
     "metadata": {
      "needs_background": "light"
     },
     "output_type": "display_data"
    }
   ],
   "source": [
    "# plot\n",
    "plt.grid()\n",
    "for p in parties:\n",
    "    plt.plot(year[2:-1], gap_run[p], color=party_color[p], ls=ls[p], marker=mark[p], label=party_name[p])\n",
    "\n",
    "# legend and labels\n",
    "plt.legend(loc=\"best\", shadow=True)\n",
    "plt.xlabel(r\"Year\")\n",
    "plt.ylabel(r\"Absolute error (running average)\")\n",
    "\n",
    "# save and show\n",
    "#plt.savefig(\"{}_evolve_gap.pdf\".format(region))\n",
    "plt.show()\n",
    "plt.close()"
   ]
  },
  {
   "cell_type": "markdown",
   "metadata": {},
   "source": [
    "Basic statistics for absolute errors after model calibration. We choose the starting year."
   ]
  },
  {
   "cell_type": "code",
   "execution_count": 15,
   "metadata": {},
   "outputs": [
    {
     "name": "stdout",
     "output_type": "stream",
     "text": [
      "con\n",
      "min 0.055773758050911226 1979\n",
      "max 13.602113993891301 1997\n",
      "mean 4.632946006680303\n",
      "\n",
      "lab\n",
      "min 0.4040206901253498 2001\n",
      "max 12.995641675769754 1983\n",
      "mean 5.230403004506404\n",
      "\n"
     ]
    }
   ],
   "source": [
    "if region == \"uk\":\n",
    "    start = 9\n",
    "if region ==\"us\":\n",
    "    start = 5\n",
    "for p in parties:\n",
    "    gap_tmp = gap[p][start:]\n",
    "    print(p)\n",
    "    print(\"min\", gap_tmp.min(), year[np.argmin(gap_tmp)+start+2])\n",
    "    print(\"max\", gap_tmp.max(), year[np.argmax(gap_tmp)+start+2])\n",
    "    print(\"mean\", gap_tmp.mean())\n",
    "    print()"
   ]
  },
  {
   "cell_type": "markdown",
   "metadata": {},
   "source": [
    "## Simulated elections\n",
    "We simulate elections via the voter model and apply the above method. First we take the UK case: value of N1(t) for the first election, election dates and final estimates of (s0,s1). <b>Important: execute the first 5 cells of the notebook before. </b>"
   ]
  },
  {
   "cell_type": "code",
   "execution_count": 6,
   "metadata": {},
   "outputs": [],
   "source": [
    "S = {\"con\": (19,14), \"lab\": (24,15)} #(s0,s1) for each party, obtained via estimation above\n",
    "n_simu = 100\n",
    "p = \"con\"\n",
    "n1, s1_real, s0_real = X[p][0], S[p][1], S[p][0]"
   ]
  },
  {
   "cell_type": "markdown",
   "metadata": {},
   "source": [
    "We create a specific simulation function because we want to record N1 at the real-life times of elections (ie under T)"
   ]
  },
  {
   "cell_type": "code",
   "execution_count": 7,
   "metadata": {},
   "outputs": [],
   "source": [
    "def elect_simu(n, n1, s1, s0, T, length, seed=None):\n",
    "        \n",
    "    # init\n",
    "    np.random.seed(seed)\n",
    "    opinion = np.random.permutation([1]*n1 + [0]*(n-n1))\n",
    "    N1 = [int(n1)]\n",
    "    n1_tmp_old, n1_tmp_new = int(n1), int(n1)\n",
    "    \n",
    "    # stubborn\n",
    "    stub0 = np.random.choice(np.where(opinion==0)[0], size=s0, replace=False)\n",
    "    stub1 = np.random.choice(np.where(opinion==1)[0], size=s1, replace=False)\n",
    "    \n",
    "    # iter\n",
    "    t, t_index = 0, 1\n",
    "    while t < T[-2]:\n",
    "        u = np.random.choice(range(n))\n",
    "        if u not in stub0 and u not in stub1:\n",
    "            n1_tmp_old = n1_tmp_new\n",
    "            old_opi = opinion[u]\n",
    "            opinion[u] = np.random.choice(opinion[range(n)])\n",
    "            n1_tmp_new = n1_tmp_old + opinion[u] - old_opi\n",
    "        waiting = np.random.exponential(1/n) # random exp of param n\n",
    "        t += waiting\n",
    "        if t >= T[t_index]:\n",
    "            N1.append(int(n1_tmp_old))\n",
    "            t_index += 1\n",
    "            \n",
    "    # complete if needed\n",
    "    if len(N1) < length:\n",
    "        N1 += [n1_tmp_new]*(length-len(N1))\n",
    "    \n",
    "    # end\n",
    "    return np.array(N1)"
   ]
  },
  {
   "cell_type": "markdown",
   "metadata": {},
   "source": [
    "Simulate `n_simu` sequences of elections via the voter model."
   ]
  },
  {
   "cell_type": "code",
   "execution_count": 8,
   "metadata": {},
   "outputs": [
    {
     "name": "stdout",
     "output_type": "stream",
     "text": [
      "Party con ...... Simu 100/100 ...... Elapsed time 44.47617959976196\r"
     ]
    }
   ],
   "source": [
    "N1 = np.zeros((n_simu, length), dtype=int)\n",
    "start = time()\n",
    "for k in range(n_simu):\n",
    "    sys.stdout.flush()\n",
    "    sys.stdout.write(\"Party {} ...... Simu {}/{} ...... Elapsed time {}\\r\".format(p, k+1, n_simu, time()-start))\n",
    "    N1[k,:] = elect_simu(n, n1, s1_real, s0_real, T, length-1, seed=None)\n",
    "    if N1[-1].size != length:\n",
    "        print(\"error\")\n",
    "        break"
   ]
  },
  {
   "cell_type": "markdown",
   "metadata": {},
   "source": [
    "Save or load N1."
   ]
  },
  {
   "cell_type": "code",
   "execution_count": 8,
   "metadata": {},
   "outputs": [],
   "source": [
    "#pickle.dump(N1, open(\"simu_elect/N1.p\", \"wb\"))\n",
    "N1 = pickle.load(open(\"simu_elect/N1.p\", \"rb\"))"
   ]
  },
  {
   "cell_type": "markdown",
   "metadata": {},
   "source": [
    "Perform estimates for each simulation."
   ]
  },
  {
   "cell_type": "code",
   "execution_count": null,
   "metadata": {},
   "outputs": [],
   "source": [
    "### estim = {\"s0\": np.zeros((n_simu, length-1)), \"s1\": np.zeros((n_simu, length-1))}\n",
    "start = time()\n",
    "\n",
    "for k in range(n_simu): # for each simulation\n",
    "        \n",
    "    for j in range(2, length+1): # new estimates for each datapoint\n",
    "    \n",
    "        #if j < length: # we only estimate the whole data for now\n",
    "            #continue\n",
    "        \n",
    "        xbar_tmp = N1[k,:j].mean()\n",
    "        s1_max = N1[k,:j].min()\n",
    "        current_max, best_estim = None, None\n",
    "\n",
    "        for s1 in range(1, s1_max+1): # check all possible values of s1\n",
    "            s0_max = n - N1[k,:j].max()\n",
    "            #s0 = int(min(s0_max, round((n/xbar[p]-1)*s1)))\n",
    "            for s0 in range(1, s0_max+1): # check all possible values of s0\n",
    "\n",
    "                # print status\n",
    "                sys.stdout.flush()\n",
    "                sys.stdout.write(\"Simu {}/{} ...... datapoint {}/{} ...... elapsed time {:.3f} .....\\r\"\n",
    "                                 .format(k+1, n_simu, j, length, time()-start))\n",
    "\n",
    "                # compute Q\n",
    "                Q = Q_matrix(n,s0,s1)\n",
    "\n",
    "                # compute log likelihood\n",
    "                log_likelihood = 0\n",
    "                for i in range(1, j):\n",
    "                    t = T[i] - T[i-1]\n",
    "                    x, y = N1[k,i-1], N1[k,i]\n",
    "                    log_likelihood += np.log(expm(t*Q)[x-s1, y-s1])\n",
    "\n",
    "                # update max if better\n",
    "                if current_max == None:\n",
    "                    current_max, best_estim = log_likelihood, (s0,s1)\n",
    "                elif log_likelihood > current_max:\n",
    "                    current_max, best_estim = log_likelihood, (s0,s1)\n",
    "\n",
    "        # append best estim to S0 and S1 dicts \n",
    "        estim[\"s0\"][k,j-2], estim[\"s1\"][k,j-2] = best_estim[0], best_estim[1]\n",
    "        \n",
    "        # save with pickle\n",
    "        pickle.dump(estim, open(\"simu_elect/s0s1_simu{}_point{}.p\".format(k+1,j-1), \"wb\"))"
   ]
  },
  {
   "cell_type": "markdown",
   "metadata": {},
   "source": [
    "Save or load result."
   ]
  },
  {
   "cell_type": "code",
   "execution_count": 13,
   "metadata": {},
   "outputs": [],
   "source": [
    "#pickle.dump(estim, open(\"s0s1_new\", \"wb\"))\n",
    "estim = pickle.load(open(\"simu_elect/s0s1_simu100_point26.p\", \"rb\"))"
   ]
  },
  {
   "cell_type": "markdown",
   "metadata": {},
   "source": [
    "Convert to integers."
   ]
  },
  {
   "cell_type": "code",
   "execution_count": 14,
   "metadata": {},
   "outputs": [],
   "source": [
    "estim = {s: estim[s].astype(int) for s in estim.keys()}"
   ]
  },
  {
   "cell_type": "markdown",
   "metadata": {},
   "source": [
    "If need be, convert to integers and remove simulations that weren't finished estimating."
   ]
  },
  {
   "cell_type": "code",
   "execution_count": 16,
   "metadata": {},
   "outputs": [],
   "source": [
    "if False:\n",
    "    for s in estim:\n",
    "        estim[s] = estim[s].astype(int)\n",
    "        for i in range(n_simu):\n",
    "            arr = estim[s][i,:]\n",
    "            if arr[arr==0].size > 0:\n",
    "                estim[s] = estim[s][:i,].astype(int)\n",
    "                break\n",
    "    n_simu = estim[\"s0\"].shape[0]\n",
    "    print(\"nb simus valid: \", n_simu)"
   ]
  },
  {
   "cell_type": "markdown",
   "metadata": {},
   "source": [
    "Load result from real data estimation."
   ]
  },
  {
   "cell_type": "code",
   "execution_count": 17,
   "metadata": {},
   "outputs": [
    {
     "name": "stdout",
     "output_type": "stream",
     "text": [
      "{'s0': array([62, 20, 28,  1,  9, 11, 13, 13, 15, 16, 18, 18, 19, 19, 19, 20, 20,\n",
      "       22, 22, 19, 18, 17, 18, 18, 19, 19]), 's1': array([38, 21, 20,  5, 10, 10, 12, 12, 14, 15, 16, 16, 17, 16, 16, 17, 17,\n",
      "       18, 18, 15, 14, 13, 13, 13, 14, 14])}\n"
     ]
    }
   ],
   "source": [
    "estim_data = pickle.load(open(\"../AntoinePhD/research_project/results/uk_evolve_estimates.p\", \"rb\"))\n",
    "estim_data = {\"s0\": np.array([x[0] for x in estim_data[p]]), \"s1\": np.array([x[1] for x in estim_data[p]])}\n",
    "print(estim_data)"
   ]
  },
  {
   "cell_type": "markdown",
   "metadata": {},
   "source": [
    "Compute average estimates."
   ]
  },
  {
   "cell_type": "code",
   "execution_count": 18,
   "metadata": {},
   "outputs": [
    {
     "name": "stdout",
     "output_type": "stream",
     "text": [
      "{'s0': array([51.97, 42.04, 34.38, 31.15, 28.22, 26.94, 25.46, 25.25, 23.89,\n",
      "       23.43, 23.7 , 23.49, 23.21, 22.79, 22.71, 22.26, 22.04, 21.79,\n",
      "       21.72, 21.5 , 21.2 , 20.77, 20.63, 20.42, 20.4 , 20.29]), 's1': array([35.26, 28.94, 25.31, 23.1 , 21.17, 20.29, 19.28, 19.09, 18.03,\n",
      "       17.48, 17.67, 17.43, 17.26, 16.95, 16.84, 16.41, 16.32, 16.11,\n",
      "       16.03, 15.84, 15.67, 15.42, 15.31, 15.16, 15.12, 14.99])}\n"
     ]
    }
   ],
   "source": [
    "estim_avg = {s: np.mean(estim[s], axis=0) for s in estim}\n",
    "print(estim_avg)"
   ]
  },
  {
   "cell_type": "markdown",
   "metadata": {},
   "source": [
    "Plot average estimates and data estimates over time."
   ]
  },
  {
   "cell_type": "code",
   "execution_count": 19,
   "metadata": {},
   "outputs": [
    {
     "name": "stdout",
     "output_type": "stream",
     "text": [
      "s0\n"
     ]
    },
    {
     "data": {
      "image/png": "[encoded data removed]",
      "text/plain": [
       "<Figure size 432x288 with 1 Axes>"
      ]
     },
     "metadata": {
      "needs_background": "light"
     },
     "output_type": "display_data"
    },
    {
     "name": "stdout",
     "output_type": "stream",
     "text": [
      "s1\n"
     ]
    },
    {
     "data": {
      "image/png": "[encoded data removed]",
      "text/plain": [
       "<Figure size 432x288 with 1 Axes>"
      ]
     },
     "metadata": {
      "needs_background": "light"
     },
     "output_type": "display_data"
    }
   ],
   "source": [
    "time_range = np.linspace(T[2], T[-1], length-1)\n",
    "for s in estim:\n",
    "    print(s)\n",
    "    plt.plot(estim_avg[s], ls=\"--\", color=\"blue\", label=\"simu\")    \n",
    "    plt.plot(estim_data[s], ls=\":\", color=\"red\", label=\"data\")\n",
    "    plt.legend(loc=\"best\")\n",
    "    plt.show()\n",
    "    plt.close()"
   ]
  },
  {
   "cell_type": "markdown",
   "metadata": {},
   "source": [
    "We compute the predicted distributions, each time based on the most recent estimate of s0,s1."
   ]
  },
  {
   "cell_type": "code",
   "execution_count": 29,
   "metadata": {},
   "outputs": [],
   "source": [
    "maximum = 0\n",
    "jump_distrib = {k: list() for k in range(n_simu)}\n",
    "Max = {k: list() for k in range(n_simu)}\n",
    "Mean = {k: list() for k in range(n_simu)}\n",
    "Std = {k: list() for k in range(n_simu)}\n",
    "    \n",
    "for k in range(n_simu):\n",
    "    for i in range(2, length+1):\n",
    "\n",
    "        # compute Q but only if it's the first time or s0,s1 are different than last time\n",
    "        s0,s1 = estim[\"s0\"][k][i-2], estim[\"s1\"][k][i-2]\n",
    "        Q = Q_matrix(n,s0,s1)\n",
    "\n",
    "        # predict distribution\n",
    "        t = T[i] - T[i-1]\n",
    "        x = N1[k,i-1]\n",
    "        density = expm(t*Q)[x-s1,:]\n",
    "        jump_distrib[k].append(density)\n",
    "        maximum = max(maximum, density.max())\n",
    "\n",
    "        # mean and std and max\n",
    "        mean = np.arange(s1,n-s0+1).dot(density)\n",
    "        Mean[k].append(mean)\n",
    "        Std[k].append(np.sqrt((np.arange(s1,n-s0+1)**2).dot(density) - mean**2))\n",
    "        Max[k].append(np.argmax(density)+s1)\n",
    "\n",
    "    # convert to array    \n",
    "    jump_distrib[k] = np.array(jump_distrib[k])"
   ]
  },
  {
   "cell_type": "markdown",
   "metadata": {},
   "source": [
    "Now we look at the error for each simulations. <b> to be rewritten </b>"
   ]
  },
  {
   "cell_type": "code",
   "execution_count": 42,
   "metadata": {},
   "outputs": [],
   "source": [
    "gap = {k: np.array([]) for k in range(n_simu)}\n",
    "gap_run = {k: np.array([]) for k in range(n_simu)}\n",
    "window = 5 # window size for running averages\n",
    "\n",
    "for k in range(n_simu):\n",
    "    \n",
    "    for i in range(2,length):\n",
    "        \n",
    "        s0, s1 = estim[\"s0\"][k][i-2], estim[\"s1\"][k][i-2]\n",
    "        datapoint = N1[k,i]\n",
    "        density = jump_distrib[k][i-2]\n",
    "\n",
    "        # gap\n",
    "        g = np.abs(datapoint-Mean[k][i-2])\n",
    "        gap[k] = np.append(gap[k], g)\n",
    "\n",
    "        # gap running average\n",
    "        if i-2<window:\n",
    "            gap_run[k] = np.append(gap_run[k], gap[k].mean())\n",
    "        else:\n",
    "            gap_run[k] = np.append(gap_run[k], gap[k][i-2-window+1:i+1].mean())"
   ]
  },
  {
   "cell_type": "markdown",
   "metadata": {},
   "source": [
    "Compute means across all simulations."
   ]
  },
  {
   "cell_type": "code",
   "execution_count": 43,
   "metadata": {},
   "outputs": [],
   "source": [
    "gap_sum, gap_run_sum = gap[0], gap_run[0]\n",
    "for k in range(1, n_simu):\n",
    "    gap_sum += gap[k]\n",
    "    gap_run_sum += gap_run[k]\n",
    "gap_mean = gap_sum / n_simu\n",
    "gap_run_mean = gap_run_sum / n_simu"
   ]
  },
  {
   "cell_type": "markdown",
   "metadata": {},
   "source": [
    "Then we plot the mean gap_run across all simulations."
   ]
  },
  {
   "cell_type": "code",
   "execution_count": 49,
   "metadata": {},
   "outputs": [
    {
     "data": {
      "image/png": "[encoded data removed]",
      "text/plain": [
       "<Figure size 432x288 with 1 Axes>"
      ]
     },
     "metadata": {
      "needs_background": "light"
     },
     "output_type": "display_data"
    }
   ],
   "source": [
    "# plot\n",
    "plt.grid()\n",
    "plt.plot(year[2:-1], gap_mean)\n",
    "\n",
    "# legend and labels\n",
    "plt.xlabel(r\"Year\")\n",
    "plt.ylabel(r\"Absolute error (running average)\")\n",
    "\n",
    "# save and show\n",
    "#plt.savefig(\"{}_evolve_gap.pdf\".format(region))\n",
    "plt.show()\n",
    "plt.close()"
   ]
  },
  {
   "cell_type": "markdown",
   "metadata": {},
   "source": [
    "Basic statistics for absolute errors after model calibration. We choose the starting year."
   ]
  },
  {
   "cell_type": "code",
   "execution_count": 48,
   "metadata": {},
   "outputs": [
    {
     "name": "stdout",
     "output_type": "stream",
     "text": [
      "[4.61461469 6.42453963 6.01088343 6.078513   6.13063976 6.45417541\n",
      " 5.59605516 5.83836243 5.78469314 5.41992054 5.20354522 5.45319033\n",
      " 5.32385786 4.68014146 4.95444762 5.14489066 5.22731994 5.09723952\n",
      " 5.6980437  5.69832568 5.7557886  5.70787182 5.87419613 5.66356077\n",
      " 5.46361374]\n",
      "5.533389467721531\n"
     ]
    }
   ],
   "source": [
    "print(gap_run_mean)\n",
    "print(gap_mean.mean())"
   ]
  },
  {
   "cell_type": "markdown",
   "metadata": {},
   "source": [
    "### Legacy"
   ]
  },
  {
   "cell_type": "markdown",
   "metadata": {},
   "source": [
    "Print distribution of results."
   ]
  },
  {
   "cell_type": "code",
   "execution_count": 23,
   "metadata": {},
   "outputs": [
    {
     "data": {
      "text/plain": [
       "<matplotlib.collections.PathCollection at 0x1ac5d8808c8>"
      ]
     },
     "execution_count": 23,
     "metadata": {},
     "output_type": "execute_result"
    },
    {
     "data": {
      "image/png": "[encoded data removed]",
      "text/plain": [
       "<Figure size 432x288 with 1 Axes>"
      ]
     },
     "metadata": {
      "needs_background": "light"
     },
     "output_type": "display_data"
    }
   ],
   "source": [
    "estim_arr = np.array([[x[0], x[1]] for x in estimate])\n",
    "estim_s0, estim_s1 = estim_arr[:,0], estim_arr[:,1]\n",
    "unique_s0, count_s0 = np.unique(estim_s0, return_counts=True)\n",
    "unique_s1, count_s1 = np.unique(estim_s1, return_counts=True)\n",
    "gravity_centre = (estim_s0.mean(), estim_s1.mean())\n",
    "plt.plot(unique_s0, count_s0)\n",
    "plt.plot(unique_s1, count_s1)\n",
    "plt.scatter(gravity_centre[0], 0)\n",
    "plt.scatter(gravity_centre[1], 0)"
   ]
  },
  {
   "cell_type": "markdown",
   "metadata": {},
   "source": [
    "Compare on scatter plot the different estimates, their gravity centre and the real values of (s0,s1)."
   ]
  },
  {
   "cell_type": "code",
   "execution_count": 63,
   "metadata": {},
   "outputs": [
    {
     "data": {
      "text/plain": [
       "<matplotlib.legend.Legend at 0x1ac5de32288>"
      ]
     },
     "execution_count": 63,
     "metadata": {},
     "output_type": "execute_result"
    },
    {
     "data": {
      "image/png": "[encoded data removed]",
      "text/plain": [
       "<Figure size 432x288 with 1 Axes>"
      ]
     },
     "metadata": {
      "needs_background": "light"
     },
     "output_type": "display_data"
    }
   ],
   "source": [
    "unique, count = np.unique(estim_arr, axis=0, return_counts=True)\n",
    "plt.scatter(unique[:,0], unique[:,1], s=10*count, marker=\"o\", color=\"lightblue\", label=\"estimates\")\n",
    "plt.scatter(gravity_centre[0], gravity_centre[1], marker=\"x\", color=\"blue\", label=\"mean estimate\")\n",
    "plt.scatter(s0_real, s1_real, marker = \"x\", color=\"red\", label=\"real values\")\n",
    "plt.legend(loc=\"best\")"
   ]
  }
 ],
 "metadata": {
  "kernelspec": {
   "display_name": "Python 3",
   "language": "python",
   "name": "python3"
  },
  "language_info": {
   "codemirror_mode": {
    "name": "ipython",
    "version": 3
   },
   "file_extension": ".py",
   "mimetype": "text/x-python",
   "name": "python",
   "nbconvert_exporter": "python",
   "pygments_lexer": "ipython3",
   "version": "3.7.4"
  }
 },
 "nbformat": 4,
 "nbformat_minor": 4
}

{
 "cells": [
  {
   "cell_type": "markdown",
   "metadata": {},
   "source": [
    "# <center> UK and US elections code"
   ]
  },
  {
   "cell_type": "markdown",
   "metadata": {},
   "source": [
    "We import the requested modules and set up some parameters for the plots appearance."
   ]
  },
  {
   "cell_type": "code",
   "execution_count": 8,
   "metadata": {},
   "outputs": [],
   "source": [
    "# imports\n",
    "import re\n",
    "import sys\n",
    "import pickle\n",
    "import numpy as np\n",
    "import pandas as pd\n",
    "from time import time\n",
    "from scipy.linalg import expm\n",
    "from sklearn.model_selection import train_test_split\n",
    "import matplotlib.pyplot as plt\n",
    "from matplotlib.pyplot import text as Text\n",
    "from matplotlib.lines import Line2D\n",
    "from matplotlib import rc\n",
    "\n",
    "# for plots appearance\n",
    "gov_color = {\"Con\":\"blue\", \"Lab\":\"red\", \"Nat\":\"orange\", \"Coa\":\"green\", \"?\":\"black\"}\n",
    "party_color = {\"con\":\"blue\", \"lab\":\"red\", \"rep\":\"red\", \"dem\":\"blue\"}\n",
    "party_color2 = {\"con\":\"darkblue\", \"lab\":\"maroon\", \"dem\":\"darkblue\", \"rep\":\"maroon\"}\n",
    "ls = {\"con\":\":\", \"lab\":\"--\", \"dem\":\":\", \"rep\":\"--\"}\n",
    "mark = {\"con\":\"d\", \"lab\":\"o\", \"dem\":\"o\", \"rep\":\"d\"}\n",
    "\n",
    "# latex rendering\n",
    "rc('font',**{'family':'sans-serif','sans-serif':['Palatino']})\n",
    "rc('text', usetex=True)"
   ]
  },
  {
   "cell_type": "markdown",
   "metadata": {},
   "source": [
    "First we create a useful function to compute a transition rate matrix Q using our voter model based on the values of n,s0,s1."
   ]
  },
  {
   "cell_type": "code",
   "execution_count": 9,
   "metadata": {},
   "outputs": [],
   "source": [
    "def Q_matrix(n,s0,s1):\n",
    "    q = np.zeros((n-s0-s1+1, n-s0-s1+1))\n",
    "    for k in range(s1,n-s0+1):\n",
    "        q[k-s1,k-s1-1] = (k-s1)*(n-k)/(n-1)\n",
    "        if k < n-s0:\n",
    "            q[k-s1,k-s1+1] = k*(n-k-s0)/(n-1)\n",
    "        q[k-s1,k-s1] = - (k-s1)*(n-k)/(n-1) - k*(n-k-s0)/(n-1)\n",
    "    return q"
   ]
  },
  {
   "cell_type": "markdown",
   "metadata": {},
   "source": [
    "Parameters. Choose the region (UK or US)."
   ]
  },
  {
   "cell_type": "code",
   "execution_count": 11,
   "metadata": {},
   "outputs": [],
   "source": [
    "n = 100 # nb users\n",
    "region = \"us\" # uk or us"
   ]
  },
  {
   "cell_type": "markdown",
   "metadata": {},
   "source": [
    "Get parties names."
   ]
  },
  {
   "cell_type": "code",
   "execution_count": 12,
   "metadata": {},
   "outputs": [],
   "source": [
    "if region == \"uk\":\n",
    "    parties= (\"con\", \"lab\")\n",
    "    party_name = {\"con\":\"Conservative\", \"lab\":\"Labour\"}\n",
    "if region == \"us\":\n",
    "    parties = (\"rep\", \"dem\") \n",
    "    party_name = {\"rep\":\"Republicans\", \"dem\":\"Democrats\"} "
   ]
  },
  {
   "cell_type": "markdown",
   "metadata": {},
   "source": [
    "Load dataset and preprocess."
   ]
  },
  {
   "cell_type": "code",
   "execution_count": 15,
   "metadata": {},
   "outputs": [],
   "source": [
    "############ UNITED KINGDOM ############\n",
    "if region == \"uk\":\n",
    "    # nb seats for each party\n",
    "    X = dict()\n",
    "    for p in parties:\n",
    "        df = pd.read_csv(\"../data/uk_elections/vote_shares/{}_results.csv\".format(region))\n",
    "        x  = np.array(df[p])\n",
    "        X[p] = np.around(x).astype(int)\n",
    "\n",
    "    # time\n",
    "    year = np.array(df[\"year\"])\n",
    "    year = np.append(year, 2024) # add next election\n",
    "    T = (year-year[0]).astype(float)\n",
    "    T[15:] += 0.5\n",
    "\n",
    "    # nb datapoints\n",
    "    length = df.shape[0]\n",
    "\n",
    "############ UNITED STATES ############\n",
    "if region==\"us\":\n",
    "    year = np.array([],dtype=int)\n",
    "    X = {p: np.array([],dtype=int) for p in parties}\n",
    "    for line in open(\"../data/us_elections/1912to1972_raw.txt\"):\n",
    "        if \"United States Presidential Election\" in line:\n",
    "            year = np.append(year, int(line[:4]))\n",
    "            done = {p:False for p in parties}\n",
    "        if \"Republican\" in line:\n",
    "            p = \"rep\"\n",
    "        elif \"Democratic\" in line:\n",
    "            p = \"dem\"\n",
    "        else:\n",
    "            continue\n",
    "        x = re.search(r\"\\d*\\.*\\d*\\%\", line)\n",
    "        x = round(float(x.group()[:-1]))\n",
    "        if not done[p]:\n",
    "            X[p] = np.append(X[p],x)\n",
    "            done[p] = True\n",
    "        else:\n",
    "            X[p][-1] += x\n",
    "\n",
    "    # create timeline, get length\n",
    "    year = np.append(year,2020)\n",
    "    T = (year-year[0]).astype(float)\n",
    "    length = T.size-1"
   ]
  },
  {
   "cell_type": "markdown",
   "metadata": {},
   "source": [
    "Each election year, we estimate (s0,s1) for Con and Lab based on all the previous results."
   ]
  },
  {
   "cell_type": "code",
   "execution_count": null,
   "metadata": {},
   "outputs": [],
   "source": [
    "estimate = {p:list() for p in parties}\n",
    "start = time()\n",
    "\n",
    "for j in range(2, length+1): # new estimates for each datapoint\n",
    "    \n",
    "    for p in parties: # for each party\n",
    "        \n",
    "        xbar_tmp = X[p][:j].mean()\n",
    "        s1_max = X[p][:j].min()\n",
    "        current_max, best_estim = None, None\n",
    "        count = 0\n",
    "\n",
    "        for s1 in range(1, s1_max+1): # check all possible values of s1\n",
    "            s0_max = n-X[p][:j].max()\n",
    "            #s0 = int(min(s0_max, round((n/xbar[p]-1)*s1)))\n",
    "            for s0 in range(1, s0_max+1): # check all possible values of s0\n",
    "\n",
    "                # print status\n",
    "                count += 1\n",
    "                sys.stdout.flush()\n",
    "                sys.stdout.write(\"Datapoint {}/{} ...... {} ...... (s0,s1) test {}/{} ...... elapsed time {} ...............\\r\"\n",
    "                                 .format(j, length, p, count, s1_max*s0_max, time()-start))\n",
    "\n",
    "                # compute Q\n",
    "                Q = Q_matrix(n,s0,s1)\n",
    "\n",
    "                # compute log likelihood\n",
    "                log_likelihood = 0\n",
    "                for i in range(1, j):\n",
    "                    t = T[i] - T[i-1]\n",
    "                    x, y = X[p][i-1], X[p][i]\n",
    "                    log_likelihood += np.log(expm(t*Q)[x-s1, y-s1])\n",
    "\n",
    "                # update max if better\n",
    "                if current_max == None:\n",
    "                    current_max, best_estim = log_likelihood, (s0,s1)\n",
    "                elif log_likelihood > current_max:\n",
    "                    current_max, best_estim = log_likelihood, (s0,s1)\n",
    "\n",
    "        # append best estim to S0 and S1 dicts\n",
    "        estimate[p].append(best_estim)"
   ]
  },
  {
   "cell_type": "markdown",
   "metadata": {},
   "source": [
    "Show results."
   ]
  },
  {
   "cell_type": "code",
   "execution_count": 366,
   "metadata": {},
   "outputs": [
    {
     "name": "stdout",
     "output_type": "stream",
     "text": [
      "Year | rep | dem\n",
      "1920 (23, 23) (44, 42)\n",
      "1924 (15, 21) (18, 12)\n",
      "1928 (18, 23) (15, 8)\n",
      "1932 (18, 23) (18, 11)\n",
      "1936 (16, 18) (10, 8)\n",
      "1940 (13, 13) (7, 7)\n",
      "1944 (14, 14) (9, 8)\n",
      "1948 (15, 15) (9, 8)\n",
      "1952 (17, 16) (10, 9)\n",
      "1956 (16, 16) (11, 10)\n",
      "1960 (16, 16) (11, 10)\n",
      "1964 (17, 17) (12, 11)\n",
      "1968 (17, 16) (10, 10)\n",
      "1972 (17, 16) (12, 11)\n",
      "1976 (15, 15) (11, 10)\n",
      "1980 (16, 16) (12, 11)\n",
      "1984 (16, 16) (13, 11)\n",
      "1988 (16, 16) (13, 11)\n",
      "1992 (16, 16) (14, 12)\n",
      "1996 (15, 15) (14, 12)\n",
      "2000 (16, 15) (15, 13)\n",
      "2004 (16, 15) (15, 13)\n",
      "2008 (16, 16) (15, 13)\n",
      "2012 (17, 16) (16, 14)\n",
      "2016 (17, 16) (16, 14)\n",
      "2020 (18, 17) (16, 14)\n"
     ]
    }
   ],
   "source": [
    "print(\"Year | {} | {}\".format(parties[0], parties[1]))\n",
    "for i in range(length-1):\n",
    "    print(year[2:][i], estimate[parties[0]][i], estimate[parties[1]][i])"
   ]
  },
  {
   "cell_type": "markdown",
   "metadata": {},
   "source": [
    "Now we compute the predicted distributions, each time based on the most recent estimate of s0,s1."
   ]
  },
  {
   "cell_type": "code",
   "execution_count": 367,
   "metadata": {},
   "outputs": [],
   "source": [
    "jump_distrib = {p:list() for p in parties}\n",
    "maximum = 0\n",
    "Mean, Std = {p:list() for p in parties}, {p:list() for p in parties}\n",
    "Max = {p:list() for p in parties}\n",
    "\n",
    "for p in parties:\n",
    "    \n",
    "    jump_distrib[p] = list()\n",
    "    \n",
    "    for i in range(2,length+1):\n",
    "        \n",
    "        # compute Q but only if it's the first time or s0,s1 are different than last time\n",
    "        s0,s1 = estimate[p][i-2]\n",
    "        Q = Q_matrix(n,s0,s1)\n",
    "            \n",
    "        # predict distribution\n",
    "        t = T[i] - T[i-1]\n",
    "        x = X[p][i-1]\n",
    "        density = expm(t*Q)[x-s1,:]\n",
    "        jump_distrib[p].append(density)\n",
    "        maximum = max(maximum, density.max())\n",
    "        \n",
    "        # mean and std and max\n",
    "        mean = np.arange(s1,n-s0+1).dot(density)\n",
    "        Mean[p].append(mean)\n",
    "        Std[p].append(np.sqrt((np.arange(s1,n-s0+1)**2).dot(density) - mean**2))\n",
    "        Max[p].append(np.argmax(density)+s1)\n",
    "        \n",
    "    # convert to array    \n",
    "    jump_distrib[p] = np.array(jump_distrib[p])"
   ]
  },
  {
   "cell_type": "markdown",
   "metadata": {},
   "source": [
    "Now compare the mean with outcomes over time on a single plot."
   ]
  },
  {
   "cell_type": "code",
   "execution_count": 334,
   "metadata": {},
   "outputs": [
    {
     "data": {
      "image/png": "[encoded data removed]",
      "text/plain": [
       "<Figure size 432x288 with 1 Axes>"
      ]
     },
     "metadata": {
      "needs_background": "light"
     },
     "output_type": "display_data"
    },
    {
     "data": {
      "image/png": "[encoded data removed]",
      "text/plain": [
       "<Figure size 432x288 with 1 Axes>"
      ]
     },
     "metadata": {
      "needs_background": "light"
     },
     "output_type": "display_data"
    }
   ],
   "source": [
    "Mean = {p: np.array(Mean[p]) for p in parties}\n",
    "Std = {p: np.array(Std[p]) for p in parties}\n",
    "\n",
    "for p in parties:\n",
    "            \n",
    "    color = party_color[p]\n",
    "    color2 = party_color2[p]\n",
    "    \n",
    "    # plot\n",
    "    plt.grid()\n",
    "    fill = plt.fill_between(year[2:-1],  Mean[p][:-1]-5,  Mean[p][:-1]+5, color=color, alpha=.08)\n",
    "    pred, = plt.plot(year[2:-1], Mean[p][:-1], marker=\"o\", markersize=5, ls=\"-.\", linewidth=.8, color=color)\n",
    "    real, = plt.plot(year[2:-1], X[p][2:], marker=\"x\", ls=\"--\", linewidth=.8, color=color2)\n",
    "    #plt.fill_between(year[2:-1], Mean[p][:-1]-Std[p][:-1], Mean[p][:-1]+Std[p][:-1], color=\"green\", alpha=.1)\n",
    "\n",
    "    # legend and axes lim\n",
    "    elements = [(fill,pred), real]\n",
    "    names = [\"Prediction\", r\"Reality $\\pm 5\\%$\"]\n",
    "    plt.legend(elements, names, loc=\"best\", shadow=True)\n",
    "    plt.ylim(0,100)\n",
    "    \n",
    "    # show and save\n",
    "    plt.xlabel(\"Year\")\n",
    "    plt.ylabel(\"Popular vote shares for {} (\\%)\".format(party_name[p]))\n",
    "    plt.savefig(\"pred_vs_real_{}_{}.pdf\".format(region,p))\n",
    "    plt.show()\n",
    "    plt.close()"
   ]
  },
  {
   "cell_type": "markdown",
   "metadata": {},
   "source": [
    "Now we quantify the distance between the actual outcome and the mean of the theoretical distribution."
   ]
  },
  {
   "cell_type": "code",
   "execution_count": 374,
   "metadata": {},
   "outputs": [],
   "source": [
    "gap = {p: np.array([]) for p in parties}\n",
    "gap_run = {p: np.array([]) for p in parties}\n",
    "stddev = {p: np.array([]) for p in parties}\n",
    "window = 5 # window size for running averages\n",
    "\n",
    "for p in parties:\n",
    "    for i in range(2,length):\n",
    "        s0, s1 = estimate[p][i-2]\n",
    "        datapoint = X[p][i]\n",
    "        density = jump_distrib[p][i-2]\n",
    "        \n",
    "        # gap\n",
    "        g = np.abs(datapoint-Mean[p][i-2]) # normal line\n",
    "        #g = np.abs(datapoint-X[p][i-1]) # to test when we predict the last result exactly\n",
    "        gap[p] = np.append(gap[p], g)\n",
    "        \n",
    "        # gap running average\n",
    "        if i-2<window:\n",
    "            gap_run[p] = np.append(gap_run[p], gap[p].mean())\n",
    "        else:\n",
    "            gap_run[p] = np.append(gap_run[p], gap[p][i-2-window+1:i+1].mean())\n",
    "        \n",
    "        # std dev\n",
    "        stddev[p] = np.append(stddev[p], g/Std[p][i-2])"
   ]
  },
  {
   "cell_type": "markdown",
   "metadata": {},
   "source": [
    "Then we plot."
   ]
  },
  {
   "cell_type": "code",
   "execution_count": 375,
   "metadata": {},
   "outputs": [
    {
     "name": "stdout",
     "output_type": "stream",
     "text": [
      "rep,0.10334519504053219,16.460533224644664,5.77667284669645,4.274465614194938\n",
      "dem,0.04388322269425515,18.118094288696284,5.8634384983837915,4.58971054142404\n"
     ]
    },
    {
     "data": {
      "image/png": "[encoded data removed]",
      "text/plain": [
       "<Figure size 432x288 with 1 Axes>"
      ]
     },
     "metadata": {
      "needs_background": "light"
     },
     "output_type": "display_data"
    }
   ],
   "source": [
    "# open file\n",
    "gap_file = open(\"../results/{}_gap.txt\".format(region), \"w\")\n",
    "gap_file.write(\"party,min,max,mean,med\\n\")\n",
    "plt.grid() \n",
    "\n",
    "# plot\n",
    "for p in parties:\n",
    "    string = \"{},{},{},{},{}\".format(p, gap[p].min(), gap[p].max(), gap[p].mean(), np.median(gap[p]))\n",
    "    print(string)\n",
    "    gap_file.write(string+\"\\n\")\n",
    "    #plt.plot(year[2:-1], gap[p], marker=mark[p], color=party_color[p], ls=ls[p], lw=.5, label=party_name[p])\n",
    "    plt.plot(year[2:-1], gap_run[p], color=party_color[p], ls=ls[p], marker=mark[p], label=party_name[p])\n",
    "\n",
    "# legend and labels\n",
    "plt.legend(loc=\"best\", shadow=True)\n",
    "plt.xlabel(r\"Year\")\n",
    "plt.ylabel(r\"Absolute error (running average)\")\n",
    "\n",
    "# save and show\n",
    "plt.savefig(\"{}_evolve_gap.pdf\".format(region))\n",
    "plt.show()\n",
    "plt.close()\n",
    "gap_file.close()"
   ]
  },
  {
   "cell_type": "markdown",
   "metadata": {},
   "source": [
    "Basic statistics after model calibration. We choose the starting year."
   ]
  },
  {
   "cell_type": "code",
   "execution_count": 378,
   "metadata": {},
   "outputs": [
    {
     "name": "stdout",
     "output_type": "stream",
     "text": [
      "rep\n",
      "min 0.10334519504053219 1940\n",
      "max 13.960941878756351 1972\n",
      "mean 4.832128278186608\n",
      "\n",
      "dem\n",
      "min 0.04388322269425515 2016\n",
      "max 12.315580899143782 1964\n",
      "mean 4.271102937342438\n",
      "\n"
     ]
    }
   ],
   "source": [
    "if region == \"uk\":\n",
    "    start = 9\n",
    "if region ==\"us\":\n",
    "    start = 5\n",
    "for p in parties:\n",
    "    gap_tmp = gap[p][start:]\n",
    "    print(p)\n",
    "    print(\"min\", gap_tmp.min(), year[np.argmin(gap_tmp)+start+2])\n",
    "    print(\"max\", gap_tmp.max(), year[np.argmax(gap_tmp)+start+2])\n",
    "    print(\"mean\", gap_tmp.mean())\n",
    "    print()"
   ]
  }
 ],
 "metadata": {
  "kernelspec": {
   "display_name": "Python 3",
   "language": "python",
   "name": "python3"
  },
  "language_info": {
   "codemirror_mode": {
    "name": "ipython",
    "version": 3
   },
   "file_extension": ".py",
   "mimetype": "text/x-python",
   "name": "python",
   "nbconvert_exporter": "python",
   "pygments_lexer": "ipython3",
   "version": "3.7.4"
  }
 },
 "nbformat": 4,
 "nbformat_minor": 4
}

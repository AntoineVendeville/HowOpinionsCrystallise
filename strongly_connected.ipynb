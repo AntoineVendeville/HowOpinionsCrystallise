{
 "cells": [
  {
   "cell_type": "markdown",
   "metadata": {},
   "source": [
    "# <center> Voter Model with Stubborn Agents on Strongly Connected Social Networks"
   ]
  },
  {
   "cell_type": "markdown",
   "metadata": {},
   "source": [
    "This is the python code used to produce the plots in <i>Voter Model with Stubborn Agents on Strongly Connected Social Networks</i>. We follow the paper organisation. Parameters are set to the one used in the paper but are free to change. Custom functions for our simulations are in `util.py`."
   ]
  },
  {
   "cell_type": "markdown",
   "metadata": {},
   "source": [
    "## Setting up\n",
    "We import the requested modules and set up some parameters for the plots appearance."
   ]
  },
  {
   "cell_type": "code",
   "execution_count": 1,
   "metadata": {},
   "outputs": [],
   "source": [
    "# imports\n",
    "import sys\n",
    "import numpy as np\n",
    "from time import time\n",
    "from random import sample\n",
    "from scipy.stats import norm\n",
    "from scipy.linalg import expm\n",
    "import matplotlib.pyplot as plt\n",
    "from matplotlib import rc\n",
    "\n",
    "# our functions for simulations\n",
    "from util import section4_simu, section5_simu, polarisation\n",
    "\n",
    "# for confidence intervals\n",
    "quant = norm().ppf(0.95)\n",
    "\n",
    "# for plots appearance\n",
    "color = [\"blue\", \"red\", \"green\", \"chocolate\", \"pink\"]\n",
    "letter = \"abcdefghijklmnopqrstuvwxyz\"\n",
    "marker = \"x+*o^p\"\n",
    "linestyle = [\"-\",\"--\",\"-.\",\":\"]\n",
    "\n",
    "# latex rendering\n",
    "rc('font',**{'family':'sans-serif','sans-serif':['Palatino']})\n",
    "rc('text', usetex=True)"
   ]
  },
  {
   "cell_type": "markdown",
   "metadata": {},
   "source": [
    "## Section 6, Fig. 1 (left)"
   ]
  },
  {
   "cell_type": "markdown",
   "metadata": {},
   "source": [
    "Choose the parameters."
   ]
  },
  {
   "cell_type": "code",
   "execution_count": 2,
   "metadata": {},
   "outputs": [],
   "source": [
    "n = 1000\n",
    "N1_init = np.array([250,750])\n",
    "S = [(100,50), (200,250)]\n",
    "n_simu = 100\n",
    "max_time = 40\n",
    "spacing = 2\n",
    "seed = None"
   ]
  },
  {
   "cell_type": "markdown",
   "metadata": {},
   "source": [
    "Simulate using custom function from `util.py`."
   ]
  },
  {
   "cell_type": "code",
   "execution_count": 3,
   "metadata": {},
   "outputs": [
    {
     "name": "stdout",
     "output_type": "stream",
     "text": [
      "n1=250, s1=50, s0=100. Simu 1/100. Elapsed time 0.0\r"
     ]
    },
    {
     "name": "stderr",
     "output_type": "stream",
     "text": [
      "ERROR:root:Internal Python error in the inspect module.\n",
      "Below is the traceback from this internal error.\n",
      "\n"
     ]
    },
    {
     "name": "stdout",
     "output_type": "stream",
     "text": [
      "Traceback (most recent call last):\n",
      "  File \"D:\\Anaconda\\lib\\site-packages\\IPython\\core\\interactiveshell.py\", line 3331, in run_code\n",
      "    exec(code_obj, self.user_global_ns, self.user_ns)\n",
      "  File \"<ipython-input-3-279ed69cf2eb>\", line 10, in <module>\n",
      "    N1t[k,i,j,:] = section5_simu(n, n1, s1, s0, max_time, spacing, seed)\n",
      "  File \"D:\\PC de Antoine\\Documents - data drive\\UCL\\these\\HowOpinionsCrystallise\\util.py\", line 67, in section5_simu\n",
      "    u = np.random.choice(range(n))\n",
      "  File \"mtrand.pyx\", line 945, in numpy.random.mtrand.RandomState.choice\n",
      "  File \"mtrand.pyx\", line 726, in numpy.random.mtrand.RandomState.randint\n",
      "  File \"D:\\Anaconda\\lib\\site-packages\\numpy\\core\\_dtype.py\", line 336, in _name_get\n",
      "    if dtype.isbuiltin == 2:\n",
      "KeyboardInterrupt\n",
      "\n",
      "During handling of the above exception, another exception occurred:\n",
      "\n",
      "Traceback (most recent call last):\n",
      "  File \"D:\\Anaconda\\lib\\site-packages\\IPython\\core\\interactiveshell.py\", line 2044, in showtraceback\n",
      "    stb = value._render_traceback_()\n",
      "AttributeError: 'KeyboardInterrupt' object has no attribute '_render_traceback_'\n",
      "\n",
      "During handling of the above exception, another exception occurred:\n",
      "\n",
      "Traceback (most recent call last):\n",
      "  File \"D:\\Anaconda\\lib\\site-packages\\IPython\\core\\ultratb.py\", line 1151, in get_records\n",
      "    return _fixed_getinnerframes(etb, number_of_lines_of_context, tb_offset)\n",
      "  File \"D:\\Anaconda\\lib\\site-packages\\IPython\\core\\ultratb.py\", line 319, in wrapped\n",
      "    return f(*args, **kwargs)\n",
      "  File \"D:\\Anaconda\\lib\\site-packages\\IPython\\core\\ultratb.py\", line 353, in _fixed_getinnerframes\n",
      "    records = fix_frame_records_filenames(inspect.getinnerframes(etb, context))\n",
      "  File \"D:\\Anaconda\\lib\\inspect.py\", line 1502, in getinnerframes\n",
      "    frameinfo = (tb.tb_frame,) + getframeinfo(tb, context)\n",
      "  File \"D:\\Anaconda\\lib\\inspect.py\", line 1460, in getframeinfo\n",
      "    filename = getsourcefile(frame) or getfile(frame)\n",
      "  File \"D:\\Anaconda\\lib\\inspect.py\", line 696, in getsourcefile\n",
      "    if getattr(getmodule(object, filename), '__loader__', None) is not None:\n",
      "  File \"D:\\Anaconda\\lib\\inspect.py\", line 739, in getmodule\n",
      "    f = getabsfile(module)\n",
      "  File \"D:\\Anaconda\\lib\\inspect.py\", line 708, in getabsfile\n",
      "    _filename = getsourcefile(object) or getfile(object)\n",
      "  File \"D:\\Anaconda\\lib\\inspect.py\", line 693, in getsourcefile\n",
      "    if os.path.exists(filename):\n",
      "  File \"D:\\Anaconda\\lib\\genericpath.py\", line 19, in exists\n",
      "    os.stat(path)\n",
      "KeyboardInterrupt\n"
     ]
    },
    {
     "ename": "KeyboardInterrupt",
     "evalue": "",
     "output_type": "error",
     "traceback": [
      "\u001b[1;31m---------------------------------------------------------------------------\u001b[0m"
     ]
    }
   ],
   "source": [
    "length = int(np.floor(max_time/spacing)+1)\n",
    "N1t = np.zeros((n_simu, N1_init.size, len(S), length))\n",
    "start = time()\n",
    "\n",
    "for j,(s0,s1) in enumerate(S):\n",
    "    for i,n1 in enumerate(N1_init):\n",
    "        for k in range(n_simu):\n",
    "            sys.stdout.flush()\n",
    "            sys.stdout.write(\"n1={}, s1={}, s0={}. Simu {}/{}. Elapsed time {}\\r\".format(n1, s1, s0, k+1, n_simu, round(time()-start,1)))\n",
    "            N1t[k,i,j,:] = section5_simu(n, n1, s1, s0, max_time, spacing, seed)"
   ]
  },
  {
   "cell_type": "markdown",
   "metadata": {},
   "source": [
    "Compute transition rate Q matrix from system (3) in the paper."
   ]
  },
  {
   "cell_type": "code",
   "execution_count": null,
   "metadata": {},
   "outputs": [],
   "source": [
    "Q = dict()\n",
    "for j,(s0,s1) in enumerate(S):\n",
    "        Q[j] = np.zeros((n-s0-s1+1, n-s0-s1+1))\n",
    "        for k in range(s1,n-s0+1):\n",
    "            Q[j][k-s1,k-s1-1] = (k-s1)*(n-k)/(n-1)\n",
    "            if k<n-s0:\n",
    "                Q[j][k-s1,k-s1+1] = k*(n-k-s0)/(n-1)\n",
    "            Q[j][k-s1,k-s1] = - (k-s1)*(n-k)/(n-1) - k*(n-k-s0)/(n-1)"
   ]
  },
  {
   "cell_type": "markdown",
   "metadata": {},
   "source": [
    "Compute theoretical values for $\\mathbb{E}N_1^{(t)}$ using Theorem 2."
   ]
  },
  {
   "cell_type": "code",
   "execution_count": null,
   "metadata": {},
   "outputs": [],
   "source": [
    "x_axis = np.linspace(0, max_time, length)\n",
    "expectation = np.zeros((N1_init.size, len(S), length))\n",
    "\n",
    "for j,(s0,s1) in enumerate(S):\n",
    "    for c,t in enumerate(x_axis):\n",
    "        Pt = expm(t*Q[j])\n",
    "        k_range = np.arange(s1,n-s0+1)\n",
    "        for i,n1 in enumerate(N1_init):\n",
    "            expectation[i,j,c] = k_range.dot(Pt[n1-s1,:])"
   ]
  },
  {
   "cell_type": "markdown",
   "metadata": {},
   "source": [
    "Plot $\\mathbb{E}N_1^{(t)}$, theoretical values and empirical averages with confidence intervals."
   ]
  },
  {
   "cell_type": "code",
   "execution_count": null,
   "metadata": {},
   "outputs": [],
   "source": [
    "elements, names = list(), list()\n",
    "\n",
    "# plot\n",
    "for j,(s0,s1) in enumerate(S):\n",
    "\n",
    "    for i,n1 in enumerate(N1_init):\n",
    "        mean = np.mean(N1t[:,i,j,:], axis=0)\n",
    "        std = np.std(N1t[:,i,j,:], axis=0, ddof=1)\n",
    "        fill_btw = plt.fill_between(x_axis, mean-quant*std/np.sqrt(n_simu), mean+quant*std/np.sqrt(n_simu), alpha=.2, color=color[j])\n",
    "        plot, = plt.plot(x_axis, expectation[i,j], c=color[j], ls='--', linewidth=.8)\n",
    "        scatter = plt.scatter(x_axis, mean, c=color[j], marker=marker[j], label=\"n1 = {}\".format(str(n1)))\n",
    "    elements.append((fill_btw, plot, scatter))\n",
    "    names.append(\"$(s_0,s_1) = ({},{})$\".format(s0,s1))\n",
    "    hline = plt.hlines(n*s1/(s0+s1), 0, max_time, color=\"grey\", ls=\":\")\n",
    "\n",
    "# limit lines\n",
    "elements.append(hline)\n",
    "names.append(\"$ns_1/(s_0+s_1)$\")\n",
    "        \n",
    "# save\n",
    "plt.legend(elements, names, shadow=True, loc=\"best\")\n",
    "plt.xlabel(r\"\\textbf{time}\")\n",
    "plt.ylabel(r\"\\textbf{number of opinion-1 users}\")\n",
    "plt.savefig(\"section5_n={}_nsimu={}_maxtime={}.pdf\".format(n, s1, s0, n_simu, max_time))\n",
    "plt.show()\n",
    "plt.close()"
   ]
  },
  {
   "cell_type": "markdown",
   "metadata": {},
   "source": [
    "## Section 6, Fig. 1 (right)\n",
    "Choose parameters."
   ]
  },
  {
   "cell_type": "code",
   "execution_count": null,
   "metadata": {},
   "outputs": [],
   "source": [
    "n = 1000\n",
    "s0, s1 = 100, 50\n",
    "Epsilon = np.array([10**(-k) for k in range(2,6)]) # different values of epsilon considered\n",
    "spacing_theo = .1 # compute total variation every ... time unit"
   ]
  },
  {
   "cell_type": "markdown",
   "metadata": {},
   "source": [
    "Compute Q from system (3)."
   ]
  },
  {
   "cell_type": "code",
   "execution_count": null,
   "metadata": {},
   "outputs": [],
   "source": [
    "Q = np.zeros((n-s0-s1+1, n-s0-s1+1))\n",
    "for k in range(s1,n-s0+1):\n",
    "    Q[k-s1,k-s1-1] = (k-s1)*(n-k)/(n-1)\n",
    "    if k<n-s0:\n",
    "        Q[k-s1,k-s1+1] = k*(n-k-s0)/(n-1)\n",
    "    Q[k-s1,k-s1] = - (k-s1)*(n-k)/(n-1) - k*(n-k-s0)/(n-1)"
   ]
  },
  {
   "cell_type": "markdown",
   "metadata": {},
   "source": [
    "Compute stationary distribution using [21, section 1.5.7]."
   ]
  },
  {
   "cell_type": "code",
   "execution_count": null,
   "metadata": {},
   "outputs": [],
   "source": [
    "prod = dict()\n",
    "    \n",
    "# compute pi_s1\n",
    "pi_s1 = 0\n",
    "for k in range(s1+1, n-s0+1):\n",
    "    prod[k] = 1\n",
    "    for i in range(s1,k):\n",
    "        prod[k] *= Q[i-s1,i-s1+1] / Q[i-s1+1,i-s1]\n",
    "    pi_s1 += prod[k]\n",
    "pi_s1 = 1/(1+pi_s1)\n",
    "\n",
    "# create vector of stationary distribution\n",
    "pi = np.array([pi_s1] + [pi_s1*prod[k] for k in range(s1+1, n-s0+1)])                   \n",
    "del prod"
   ]
  },
  {
   "cell_type": "markdown",
   "metadata": {},
   "source": [
    "Compute theoretical mixing time using theorem 4. Total variation is computed every `spacing_theo` time unit."
   ]
  },
  {
   "cell_type": "code",
   "execution_count": null,
   "metadata": {},
   "outputs": [],
   "source": [
    "mixing_theo = dict()\n",
    "n1_todo = np.arange(s1, n-s0+1)\n",
    "mixing_theo = np.zeros((Epsilon.size, n1_todo.size))\n",
    "t = 0\n",
    "done = {k: list() for k in range(Epsilon.size)}\n",
    "done_total = 0\n",
    "\n",
    "start = time()\n",
    "while done_total < n1_todo.size*Epsilon.size:\n",
    "    sys.stdout.flush()\n",
    "    sys.stdout.write(\"s1={}, s0={}, t={}, done={}/{}. Elapsed time {}\\r\"\n",
    "                     .format(s1, s0, int(t), [len(x) for x in done.values()], n1_todo.size, round(time()-start,3)))\n",
    "    Pt = expm(t*Q)\n",
    "\n",
    "    for i,n1 in enumerate(n1_todo):\n",
    "        totalvar = -1\n",
    "        for k,eps in enumerate(Epsilon):\n",
    "\n",
    "            if i not in done[k]:\n",
    "                if totalvar == -1:\n",
    "                    totalvar = 0.5 * np.abs(Pt[n1-s1,:]-pi).sum()\n",
    "                if totalvar < eps:\n",
    "                    mixing_theo[k,i] = t\n",
    "                    done[k].append(i)\n",
    "                    done_total += 1\n",
    "\n",
    "    t += spacing_theo"
   ]
  },
  {
   "cell_type": "markdown",
   "metadata": {},
   "source": [
    "Plot mixing times."
   ]
  },
  {
   "cell_type": "code",
   "execution_count": null,
   "metadata": {},
   "outputs": [],
   "source": [
    "elements, names = list(), list()\n",
    "\n",
    "for k,eps in enumerate(Epsilon):\n",
    "    plt.plot(np.arange(s1,n-s0+1), mixing_theo[k,:], \n",
    "             color=color[k], linestyle=linestyle[k],\n",
    "             label=r\"$\\varepsilon=10^{{-{}}}$\".format(k+1))\n",
    "\n",
    "# show and save\n",
    "plt.xticks(range(s1,n-s0+1,100))\n",
    "plt.xlabel(r\"\\textbf{initial number of opinion-1}\")\n",
    "plt.ylabel(r\"\\textbf{mixing time}\")\n",
    "plt.legend(shadow=True, loc=\"lower right\")\n",
    "plt.savefig(\"section5_mixingtime_n={}_s0={}_s1={}.pdf\".format(n,s0,s1))\n",
    "plt.show()\n",
    "plt.close()"
   ]
  },
  {
   "cell_type": "markdown",
   "metadata": {},
   "source": [
    "## Section 7, Fig. 2"
   ]
  },
  {
   "cell_type": "markdown",
   "metadata": {},
   "source": [
    "Parameters."
   ]
  },
  {
   "cell_type": "code",
   "execution_count": null,
   "metadata": {},
   "outputs": [],
   "source": [
    "n_nodes = 1000  # total nb users\n",
    "n_cliques = 2 # nb cliques\n",
    "clique_size = [500, 500] # cliques sizes\n",
    "N1 = [100, 400] # n1 in each clique\n",
    "S = [((250,0),(0,250)), ((250,0),(0,50))] # each element of the list is of the form ((s0 clique C0, s0 clique C1), (s1 clique C0, s1 clique C1))\n",
    "maxlinks = clique_size[0]*clique_size[1] # max nb links DO NOT CHANGE\n",
    "n_links = [int(.05*maxlinks), int(.15*maxlinks), int(.75*maxlinks)] # number of links to add\n",
    "n_cases = len(n_links) # nb of different cases considered\n",
    "n_simu = 100 # nb simulations\n",
    "max_time = 20 # max time for simulations\n",
    "spacing = 1 # register N1 every ... time unit\n",
    "seed = None # random seed"
   ]
  },
  {
   "cell_type": "markdown",
   "metadata": {},
   "source": [
    "Simulate using custom function from `util.py`. We re-sample the in-between links at random for each simulation."
   ]
  },
  {
   "cell_type": "code",
   "execution_count": null,
   "metadata": {},
   "outputs": [],
   "source": [
    "length = int(np.floor(max_time/spacing)+1)\n",
    "N1t = np.zeros((n_simu, len(S), n_cases, n_cliques, length))\n",
    "time_start = time()\n",
    "\n",
    "for r,s in enumerate(S):\n",
    "    S0, S1 = s[0], s[1]\n",
    "    for case in range(n_cases):\n",
    "        for k in range(n_simu):\n",
    "            sys.stdout.flush()\n",
    "            sys.stdout.write(\"Plot {}/{}. Case {}/{}. Simu {}/{}. Elapsed time {}\\r\".format(r+1, len(S), case+1, n_cases, k+1, n_simu, round(time()-time_start,1)))\n",
    "\n",
    "            # create graph\n",
    "            neighbours = {case:dict() for case in range(n_cases)}\n",
    "            clique = list()\n",
    "\n",
    "            ### create cliques\n",
    "            start = 0\n",
    "            for size in clique_size:\n",
    "                for i in range(start, start+size):\n",
    "                    neighbours[i] = np.concatenate((np.arange(start,i), np.arange(i+1,start+size)))\n",
    "                clique.append(list(range(start, start+size)))\n",
    "                start += size\n",
    "\n",
    "            ### interlinks between cliques\n",
    "            links = n_links[case]\n",
    "            possible_links = [(i,j) for i in clique[0] for j in clique[1]]\n",
    "            edges = sample(possible_links, links)\n",
    "            for l in range(links):\n",
    "                i, j = edges[l][0], edges[l][1]\n",
    "                neighbours[i] = np.append(neighbours[i], j)\n",
    "                neighbours[j] = np.append(neighbours[j], i)\n",
    "            del edges, possible_links\n",
    "\n",
    "            # simulate model\n",
    "            N1t[k,r,case,:,:] = polarisation(neighbours, clique, N1, S1, S0, max_time, spacing, seed)"
   ]
  },
  {
   "cell_type": "markdown",
   "metadata": {},
   "source": [
    "Compute transition rate Q matrix for each clique using system (3)."
   ]
  },
  {
   "cell_type": "code",
   "execution_count": null,
   "metadata": {},
   "outputs": [],
   "source": [
    "Q = dict()\n",
    "for r,s in enumerate(S):\n",
    "    S0, S1 = s[0], s[1]\n",
    "    for c in range(n_cliques):\n",
    "        n, n1, s1, s0 = clique_size[c], N1[c], S1[c], S0[c]\n",
    "        Q[c,r] = np.zeros((n-s0-s1+1, n-s0-s1+1))\n",
    "        for k in range(s1,n-s0+1):\n",
    "            Q[c,r][k-s1,k-s1-1] = (k-s1)*(n-k)/(n-1)\n",
    "            if k<n-s0:\n",
    "                Q[c,r][k-s1,k-s1+1] = k*(n-k-s0)/(n-1)\n",
    "            Q[c,r][k-s1,k-s1] = - (k-s1)*(n-k)/(n-1) - k*(n-k-s0)/(n-1)"
   ]
  },
  {
   "cell_type": "markdown",
   "metadata": {},
   "source": [
    "Compute theoretical values for $\\mathbb{E}N_1^{(t)}$ for each clique in the case with no links in between."
   ]
  },
  {
   "cell_type": "code",
   "execution_count": null,
   "metadata": {},
   "outputs": [],
   "source": [
    "x_axis = np.linspace(0, max_time, length)\n",
    "expectation = {(c,r): list() for c in range(n_cliques) for r in range(len(S))}\n",
    "\n",
    "for r,s in enumerate(S):\n",
    "    S0, S1 = s[0], s[1]\n",
    "    for c in range(n_cliques):\n",
    "        n, n1, s1, s0 = clique_size[c], N1[c], S1[c], S0[c]\n",
    "        for t in x_axis:\n",
    "            Qexp = expm(t*Q[c,r])\n",
    "            k_range = np.arange(S1[c], n-s0+1)\n",
    "            expectation[c,r].append(k_range.dot(Qexp[n1-s1, :]))"
   ]
  },
  {
   "cell_type": "markdown",
   "metadata": {},
   "source": [
    "Plot."
   ]
  },
  {
   "cell_type": "code",
   "execution_count": null,
   "metadata": {},
   "outputs": [],
   "source": [
    "names_theo = [\"$C_0$\", \"$C_1$\"]\n",
    "linestyle = [\"--\",\"-.\"]\n",
    "fig, ax = plt.subplots(1,2, figsize=(12,4))\n",
    "percents = [5,15,75]\n",
    "\n",
    "for r,s in enumerate(S):\n",
    "    elements, names = list(), list()\n",
    "    S0, S1 = s[0], s[1]\n",
    "    elements, names = list(), list()\n",
    "    \n",
    "    for c in range(n_cliques):\n",
    "        plot, = ax[r].plot(x_axis, expectation[c,r], c=\"black\", ls=linestyle[c], linewidth=.8)\n",
    "        elements.append(plot)\n",
    "        names.append(\"no links (\"+names_theo[c]+\")\")\n",
    "        \n",
    "        # add C0 and C1 points\n",
    "        if (r,c)==(0,1):\n",
    "            ax[r].text(0, expectation[c,r][0]-40, names_theo[c])\n",
    "        else:\n",
    "            ax[r].text(0, expectation[c,r][0]+20, names_theo[c])\n",
    "\n",
    "    for l in range(n_cases):\n",
    "        for c in range(n_cliques):\n",
    "            mean = np.mean(N1t[:,r,l,c,:], axis=0)\n",
    "            std = np.std(N1t[:,r,l,c,:], axis=0, ddof=1)\n",
    "            fill_btw = ax[r].fill_between(x_axis, mean-quant*std/np.sqrt(n_simu), mean+quant*std/np.sqrt(n_simu), alpha=.2, color=color[l])\n",
    "            scatter = ax[r].scatter(x_axis, mean, c=color[l], marker=marker[c])\n",
    "            elements.append((fill_btw, scatter))\n",
    "            names.append(r\"${}$\\% links (\".format(percents[l], letter[c]) + names_theo[c] +\")\")\n",
    "        \n",
    "\n",
    "# show and save\n",
    "ax[1].legend(elements, names, loc=[1.1,0.2], shadow=True)\n",
    "ax[0].set_xlabel(r\"\\textbf{time}\")\n",
    "ax[1].set_xlabel(r\"\\textbf{time}\")\n",
    "ax[0].set_ylabel(r\"\\textbf{number of opinion-1 users}\")\n",
    "\n",
    "plt.tight_layout(pad=2.5)\n",
    "plt.savefig(\"polarisation_n={}_cliquesizes={}-{}_N1={}-{}_nsimus={}.pdf\"\n",
    "            .format(n_nodes, clique_size[0], clique_size[1], N1[0], N1[1], n_simu))\n",
    "plt.show()\n",
    "plt.close()"
   ]
  }
 ],
 "metadata": {
  "kernelspec": {
   "display_name": "Python 3",
   "language": "python",
   "name": "python3"
  },
  "language_info": {
   "codemirror_mode": {
    "name": "ipython",
    "version": 3
   },
   "file_extension": ".py",
   "mimetype": "text/x-python",
   "name": "python",
   "nbconvert_exporter": "python",
   "pygments_lexer": "ipython3",
   "version": "3.7.6"
  }
 },
 "nbformat": 4,
 "nbformat_minor": 4
}
